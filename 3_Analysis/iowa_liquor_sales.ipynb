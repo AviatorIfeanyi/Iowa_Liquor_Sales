{
 "cells": [
  {
   "cell_type": "code",
   "execution_count": 1,
   "id": "826055b6",
   "metadata": {},
   "outputs": [],
   "source": [
    "import pandas as pd\n",
    "import matplotlib.pyplot as plt\n",
    "import seaborn as sns"
   ]
  },
  {
   "cell_type": "code",
   "execution_count": 2,
   "id": "c79f7708",
   "metadata": {},
   "outputs": [],
   "source": [
    "iowa_liquor_sales = pd.read_csv('./iowa_liquor_clean.csv')"
   ]
  },
  {
   "cell_type": "code",
   "execution_count": 3,
   "id": "acfb7b35",
   "metadata": {},
   "outputs": [
    {
     "name": "stdout",
     "output_type": "stream",
     "text": [
      "<class 'pandas.core.frame.DataFrame'>\n",
      "RangeIndex: 2564565 entries, 0 to 2564564\n",
      "Data columns (total 17 columns):\n",
      " #   Column                 Dtype  \n",
      "---  ------                 -----  \n",
      " 0   invoice/item_number    object \n",
      " 1   date                   object \n",
      " 2   store_name             object \n",
      " 3   city                   object \n",
      " 4   county                 object \n",
      " 5   category_name          object \n",
      " 6   vendor_name            object \n",
      " 7   item_description       object \n",
      " 8   bottle_volume_(ml)     int64  \n",
      " 9   state_bottle_cost      float64\n",
      " 10  state_bottle_retail    float64\n",
      " 11  bottles_sold           int64  \n",
      " 12  sale_(dollars)         float64\n",
      " 13  volume_sold_(liters)   float64\n",
      " 14  volume_sold_(gallons)  float64\n",
      " 15  month                  int64  \n",
      " 16  month_name             object \n",
      "dtypes: float64(5), int64(3), object(9)\n",
      "memory usage: 332.6+ MB\n"
     ]
    }
   ],
   "source": [
    "iowa_liquor_sales.info()"
   ]
  },
  {
   "cell_type": "code",
   "execution_count": null,
   "id": "d3ada9c4",
   "metadata": {},
   "outputs": [],
   "source": []
  },
  {
   "cell_type": "code",
   "execution_count": null,
   "id": "07795d2b",
   "metadata": {},
   "outputs": [],
   "source": []
  },
  {
   "cell_type": "code",
   "execution_count": 4,
   "id": "13520c8d",
   "metadata": {},
   "outputs": [
    {
     "data": {
      "text/html": [
       "<div>\n",
       "<style scoped>\n",
       "    .dataframe tbody tr th:only-of-type {\n",
       "        vertical-align: middle;\n",
       "    }\n",
       "\n",
       "    .dataframe tbody tr th {\n",
       "        vertical-align: top;\n",
       "    }\n",
       "\n",
       "    .dataframe thead th {\n",
       "        text-align: right;\n",
       "    }\n",
       "</style>\n",
       "<table border=\"1\" class=\"dataframe\">\n",
       "  <thead>\n",
       "    <tr style=\"text-align: right;\">\n",
       "      <th></th>\n",
       "      <th>invoice/item_number</th>\n",
       "      <th>date</th>\n",
       "      <th>store_name</th>\n",
       "      <th>city</th>\n",
       "      <th>county</th>\n",
       "      <th>category_name</th>\n",
       "      <th>vendor_name</th>\n",
       "      <th>item_description</th>\n",
       "      <th>bottle_volume_(ml)</th>\n",
       "      <th>state_bottle_cost</th>\n",
       "      <th>state_bottle_retail</th>\n",
       "      <th>bottles_sold</th>\n",
       "      <th>sale_(dollars)</th>\n",
       "      <th>volume_sold_(liters)</th>\n",
       "      <th>volume_sold_(gallons)</th>\n",
       "      <th>month</th>\n",
       "      <th>month_name</th>\n",
       "    </tr>\n",
       "  </thead>\n",
       "  <tbody>\n",
       "    <tr>\n",
       "      <th>0</th>\n",
       "      <td>INV-43468400010</td>\n",
       "      <td>2022-01-02</td>\n",
       "      <td>HY-VEE / PLEASANT HILL</td>\n",
       "      <td>PLEASANT HILL</td>\n",
       "      <td>POLK</td>\n",
       "      <td>TEMPORARY &amp;  SPECIALTY PACKAGES</td>\n",
       "      <td>CEDAR RIDGE VINEYARDS LL</td>\n",
       "      <td>CEDAR RIDGE SIR MAPLE</td>\n",
       "      <td>750</td>\n",
       "      <td>23.00</td>\n",
       "      <td>34.50</td>\n",
       "      <td>6</td>\n",
       "      <td>207.00</td>\n",
       "      <td>4.5</td>\n",
       "      <td>1.18</td>\n",
       "      <td>1</td>\n",
       "      <td>January</td>\n",
       "    </tr>\n",
       "    <tr>\n",
       "      <th>1</th>\n",
       "      <td>INV-43468500035</td>\n",
       "      <td>2022-01-02</td>\n",
       "      <td>CENTRAL CITY LIQUOR, INC.</td>\n",
       "      <td>DES MOINES</td>\n",
       "      <td>POLK</td>\n",
       "      <td>GOLD RUM</td>\n",
       "      <td>BACARDI USA INC</td>\n",
       "      <td>BACARDI GOLD MINI</td>\n",
       "      <td>50</td>\n",
       "      <td>5.54</td>\n",
       "      <td>8.31</td>\n",
       "      <td>2</td>\n",
       "      <td>16.62</td>\n",
       "      <td>0.1</td>\n",
       "      <td>0.02</td>\n",
       "      <td>1</td>\n",
       "      <td>January</td>\n",
       "    </tr>\n",
       "    <tr>\n",
       "      <th>2</th>\n",
       "      <td>INV-43468500011</td>\n",
       "      <td>2022-01-02</td>\n",
       "      <td>CENTRAL CITY LIQUOR, INC.</td>\n",
       "      <td>DES MOINES</td>\n",
       "      <td>POLK</td>\n",
       "      <td>SINGLE MALT SCOTCH</td>\n",
       "      <td>MOET HENNESSY USA</td>\n",
       "      <td>ARDBEG WEE BEASTIE</td>\n",
       "      <td>750</td>\n",
       "      <td>23.99</td>\n",
       "      <td>35.99</td>\n",
       "      <td>6</td>\n",
       "      <td>215.94</td>\n",
       "      <td>4.5</td>\n",
       "      <td>1.18</td>\n",
       "      <td>1</td>\n",
       "      <td>January</td>\n",
       "    </tr>\n",
       "    <tr>\n",
       "      <th>3</th>\n",
       "      <td>INV-43468500020</td>\n",
       "      <td>2022-01-02</td>\n",
       "      <td>CENTRAL CITY LIQUOR, INC.</td>\n",
       "      <td>DES MOINES</td>\n",
       "      <td>POLK</td>\n",
       "      <td>IMPORTED FLAVORED VODKA</td>\n",
       "      <td>CONSTELLATION BRANDS INC</td>\n",
       "      <td>SVEDKA BLUE RASPBERRY</td>\n",
       "      <td>750</td>\n",
       "      <td>8.00</td>\n",
       "      <td>12.00</td>\n",
       "      <td>2</td>\n",
       "      <td>24.00</td>\n",
       "      <td>1.5</td>\n",
       "      <td>0.39</td>\n",
       "      <td>1</td>\n",
       "      <td>January</td>\n",
       "    </tr>\n",
       "    <tr>\n",
       "      <th>4</th>\n",
       "      <td>INV-43468500039</td>\n",
       "      <td>2022-01-02</td>\n",
       "      <td>CENTRAL CITY LIQUOR, INC.</td>\n",
       "      <td>DES MOINES</td>\n",
       "      <td>POLK</td>\n",
       "      <td>IMPORTED DISTILLED SPIRIT SPECIALTY</td>\n",
       "      <td>CONSTELLATION BRANDS INC</td>\n",
       "      <td>MI CAMPO REPOSADO</td>\n",
       "      <td>750</td>\n",
       "      <td>12.40</td>\n",
       "      <td>18.60</td>\n",
       "      <td>2</td>\n",
       "      <td>37.20</td>\n",
       "      <td>1.5</td>\n",
       "      <td>0.39</td>\n",
       "      <td>1</td>\n",
       "      <td>January</td>\n",
       "    </tr>\n",
       "  </tbody>\n",
       "</table>\n",
       "</div>"
      ],
      "text/plain": [
       "  invoice/item_number        date                 store_name           city  \\\n",
       "0     INV-43468400010  2022-01-02     HY-VEE / PLEASANT HILL  PLEASANT HILL   \n",
       "1     INV-43468500035  2022-01-02  CENTRAL CITY LIQUOR, INC.     DES MOINES   \n",
       "2     INV-43468500011  2022-01-02  CENTRAL CITY LIQUOR, INC.     DES MOINES   \n",
       "3     INV-43468500020  2022-01-02  CENTRAL CITY LIQUOR, INC.     DES MOINES   \n",
       "4     INV-43468500039  2022-01-02  CENTRAL CITY LIQUOR, INC.     DES MOINES   \n",
       "\n",
       "  county                        category_name               vendor_name  \\\n",
       "0   POLK      TEMPORARY &  SPECIALTY PACKAGES  CEDAR RIDGE VINEYARDS LL   \n",
       "1   POLK                             GOLD RUM           BACARDI USA INC   \n",
       "2   POLK                   SINGLE MALT SCOTCH         MOET HENNESSY USA   \n",
       "3   POLK              IMPORTED FLAVORED VODKA  CONSTELLATION BRANDS INC   \n",
       "4   POLK  IMPORTED DISTILLED SPIRIT SPECIALTY  CONSTELLATION BRANDS INC   \n",
       "\n",
       "        item_description  bottle_volume_(ml)  state_bottle_cost  \\\n",
       "0  CEDAR RIDGE SIR MAPLE                 750              23.00   \n",
       "1      BACARDI GOLD MINI                  50               5.54   \n",
       "2     ARDBEG WEE BEASTIE                 750              23.99   \n",
       "3  SVEDKA BLUE RASPBERRY                 750               8.00   \n",
       "4      MI CAMPO REPOSADO                 750              12.40   \n",
       "\n",
       "   state_bottle_retail  bottles_sold  sale_(dollars)  volume_sold_(liters)  \\\n",
       "0                34.50             6          207.00                   4.5   \n",
       "1                 8.31             2           16.62                   0.1   \n",
       "2                35.99             6          215.94                   4.5   \n",
       "3                12.00             2           24.00                   1.5   \n",
       "4                18.60             2           37.20                   1.5   \n",
       "\n",
       "   volume_sold_(gallons)  month month_name  \n",
       "0                   1.18      1    January  \n",
       "1                   0.02      1    January  \n",
       "2                   1.18      1    January  \n",
       "3                   0.39      1    January  \n",
       "4                   0.39      1    January  "
      ]
     },
     "execution_count": 4,
     "metadata": {},
     "output_type": "execute_result"
    }
   ],
   "source": [
    "iowa_liquor_sales.head()"
   ]
  },
  {
   "cell_type": "code",
   "execution_count": 5,
   "id": "63ba71dd",
   "metadata": {},
   "outputs": [
    {
     "name": "stdout",
     "output_type": "stream",
     "text": [
      "<class 'pandas.core.frame.DataFrame'>\n",
      "RangeIndex: 2564565 entries, 0 to 2564564\n",
      "Data columns (total 17 columns):\n",
      " #   Column                 Dtype  \n",
      "---  ------                 -----  \n",
      " 0   invoice/item_number    object \n",
      " 1   date                   object \n",
      " 2   store_name             object \n",
      " 3   city                   object \n",
      " 4   county                 object \n",
      " 5   category_name          object \n",
      " 6   vendor_name            object \n",
      " 7   item_description       object \n",
      " 8   bottle_volume_(ml)     int64  \n",
      " 9   state_bottle_cost      float64\n",
      " 10  state_bottle_retail    float64\n",
      " 11  bottles_sold           int64  \n",
      " 12  sale_(dollars)         float64\n",
      " 13  volume_sold_(liters)   float64\n",
      " 14  volume_sold_(gallons)  float64\n",
      " 15  month                  int64  \n",
      " 16  month_name             object \n",
      "dtypes: float64(5), int64(3), object(9)\n",
      "memory usage: 332.6+ MB\n"
     ]
    }
   ],
   "source": [
    "\n",
    "iowa_liquor_sales.info()"
   ]
  },
  {
   "cell_type": "code",
   "execution_count": null,
   "id": "5697ce3b",
   "metadata": {},
   "outputs": [],
   "source": []
  },
  {
   "cell_type": "markdown",
   "id": "afddc0a1",
   "metadata": {},
   "source": [
    "\n",
    "# Insights and Visualization"
   ]
  },
  {
   "cell_type": "code",
   "execution_count": 6,
   "id": "db856379",
   "metadata": {},
   "outputs": [],
   "source": [
    "import calendar"
   ]
  },
  {
   "cell_type": "code",
   "execution_count": 7,
   "id": "d380cb82",
   "metadata": {},
   "outputs": [
    {
     "data": {
      "image/png": "[encoded data removed]",
      "text/plain": [
       "<Figure size 432x288 with 1 Axes>"
      ]
     },
     "metadata": {
      "needs_background": "light"
     },
     "output_type": "display_data"
    }
   ],
   "source": [
    "iowa_liquor_sales.city.value_counts()[:10].plot(kind='barh').invert_yaxis()"
   ]
  },
  {
   "cell_type": "code",
   "execution_count": 8,
   "id": "7ab1c418",
   "metadata": {},
   "outputs": [
    {
     "data": {
      "image/png": "[encoded data removed]",
      "text/plain": [
       "<Figure size 432x288 with 1 Axes>"
      ]
     },
     "metadata": {
      "needs_background": "light"
     },
     "output_type": "display_data"
    }
   ],
   "source": [
    "iowa_liquor_sales.store_name.value_counts()[:10].plot(kind='barh').invert_yaxis()"
   ]
  },
  {
   "cell_type": "code",
   "execution_count": null,
   "id": "c6f8ad50",
   "metadata": {},
   "outputs": [],
   "source": []
  },
  {
   "cell_type": "code",
   "execution_count": null,
   "id": "3bcccc4c",
   "metadata": {},
   "outputs": [],
   "source": []
  },
  {
   "cell_type": "code",
   "execution_count": 9,
   "id": "0db4abda",
   "metadata": {},
   "outputs": [
    {
     "data": {
      "image/png": "[encoded data removed]",
      "text/plain": [
       "<Figure size 864x360 with 1 Axes>"
      ]
     },
     "metadata": {
      "needs_background": "light"
     },
     "output_type": "display_data"
    }
   ],
   "source": [
    "color = sns.color_palette()[4]\n",
    "\n",
    "plt.figure(figsize=(12,5))\n",
    "sns.countplot(data=iowa_liquor_sales, x='month_name',color=color)\n",
    "plt.title('Liquor Sales by Month')\n",
    "plt.ylabel('')\n",
    "plt.xlabel('')\n",
    "plt.show()"
   ]
  },
  {
   "cell_type": "code",
   "execution_count": null,
   "id": "6859a9c0",
   "metadata": {},
   "outputs": [],
   "source": []
  },
  {
   "cell_type": "code",
   "execution_count": 10,
   "id": "74cd3b74",
   "metadata": {},
   "outputs": [],
   "source": [
    "top_buyers = pd.DataFrame(iowa_liquor_sales.groupby('county')['sale_(dollars)'].sum()).sort_values(by='sale_(dollars)', ascending=False).head()"
   ]
  },
  {
   "cell_type": "code",
   "execution_count": 11,
   "id": "d28729df",
   "metadata": {},
   "outputs": [],
   "source": [
    "top_buyers = top_buyers.reset_index()"
   ]
  },
  {
   "cell_type": "code",
   "execution_count": 12,
   "id": "76b18602",
   "metadata": {},
   "outputs": [
    {
     "data": {
      "text/html": [
       "<div>\n",
       "<style scoped>\n",
       "    .dataframe tbody tr th:only-of-type {\n",
       "        vertical-align: middle;\n",
       "    }\n",
       "\n",
       "    .dataframe tbody tr th {\n",
       "        vertical-align: top;\n",
       "    }\n",
       "\n",
       "    .dataframe thead th {\n",
       "        text-align: right;\n",
       "    }\n",
       "</style>\n",
       "<table border=\"1\" class=\"dataframe\">\n",
       "  <thead>\n",
       "    <tr style=\"text-align: right;\">\n",
       "      <th></th>\n",
       "      <th>county</th>\n",
       "      <th>sale_(dollars)</th>\n",
       "    </tr>\n",
       "  </thead>\n",
       "  <tbody>\n",
       "    <tr>\n",
       "      <th>0</th>\n",
       "      <td>POLK</td>\n",
       "      <td>1.006306e+08</td>\n",
       "    </tr>\n",
       "    <tr>\n",
       "      <th>1</th>\n",
       "      <td>LINN</td>\n",
       "      <td>3.603944e+07</td>\n",
       "    </tr>\n",
       "    <tr>\n",
       "      <th>2</th>\n",
       "      <td>SCOTT</td>\n",
       "      <td>2.728397e+07</td>\n",
       "    </tr>\n",
       "    <tr>\n",
       "      <th>3</th>\n",
       "      <td>JOHNSON</td>\n",
       "      <td>2.475249e+07</td>\n",
       "    </tr>\n",
       "    <tr>\n",
       "      <th>4</th>\n",
       "      <td>BLACK HAWK</td>\n",
       "      <td>2.248416e+07</td>\n",
       "    </tr>\n",
       "  </tbody>\n",
       "</table>\n",
       "</div>"
      ],
      "text/plain": [
       "       county  sale_(dollars)\n",
       "0        POLK    1.006306e+08\n",
       "1        LINN    3.603944e+07\n",
       "2       SCOTT    2.728397e+07\n",
       "3     JOHNSON    2.475249e+07\n",
       "4  BLACK HAWK    2.248416e+07"
      ]
     },
     "execution_count": 12,
     "metadata": {},
     "output_type": "execute_result"
    }
   ],
   "source": [
    "top_buyers"
   ]
  },
  {
   "cell_type": "code",
   "execution_count": 13,
   "id": "450fd879",
   "metadata": {},
   "outputs": [
    {
     "data": {
      "text/plain": [
       "<BarContainer object of 5 artists>"
      ]
     },
     "execution_count": 13,
     "metadata": {},
     "output_type": "execute_result"
    },
    {
     "data": {
      "image/png": "[encoded data removed]",
      "text/plain": [
       "<Figure size 432x288 with 1 Axes>"
      ]
     },
     "metadata": {
      "needs_background": "light"
     },
     "output_type": "display_data"
    }
   ],
   "source": [
    "plt.bar(data=top_buyers, x='county', height='sale_(dollars)')"
   ]
  },
  {
   "cell_type": "code",
   "execution_count": null,
   "id": "137d828a",
   "metadata": {},
   "outputs": [],
   "source": []
  },
  {
   "cell_type": "code",
   "execution_count": 14,
   "id": "99dd9ffb",
   "metadata": {},
   "outputs": [],
   "source": [
    "top_demand_by_county = pd.DataFrame(iowa_liquor_sales.groupby('county')['bottles_sold'].sum()).sort_values(by='bottles_sold', ascending=False).head()"
   ]
  },
  {
   "cell_type": "code",
   "execution_count": 15,
   "id": "55384a97",
   "metadata": {},
   "outputs": [],
   "source": [
    "top_demand_by_county = top_demand_by_county.reset_index()"
   ]
  },
  {
   "cell_type": "code",
   "execution_count": 16,
   "id": "631d91b0",
   "metadata": {},
   "outputs": [
    {
     "data": {
      "text/html": [
       "<div>\n",
       "<style scoped>\n",
       "    .dataframe tbody tr th:only-of-type {\n",
       "        vertical-align: middle;\n",
       "    }\n",
       "\n",
       "    .dataframe tbody tr th {\n",
       "        vertical-align: top;\n",
       "    }\n",
       "\n",
       "    .dataframe thead th {\n",
       "        text-align: right;\n",
       "    }\n",
       "</style>\n",
       "<table border=\"1\" class=\"dataframe\">\n",
       "  <thead>\n",
       "    <tr style=\"text-align: right;\">\n",
       "      <th></th>\n",
       "      <th>county</th>\n",
       "      <th>bottles_sold</th>\n",
       "    </tr>\n",
       "  </thead>\n",
       "  <tbody>\n",
       "    <tr>\n",
       "      <th>0</th>\n",
       "      <td>POLK</td>\n",
       "      <td>7022989</td>\n",
       "    </tr>\n",
       "    <tr>\n",
       "      <th>1</th>\n",
       "      <td>LINN</td>\n",
       "      <td>2695443</td>\n",
       "    </tr>\n",
       "    <tr>\n",
       "      <th>2</th>\n",
       "      <td>SCOTT</td>\n",
       "      <td>2134820</td>\n",
       "    </tr>\n",
       "    <tr>\n",
       "      <th>3</th>\n",
       "      <td>BLACK HAWK</td>\n",
       "      <td>1728897</td>\n",
       "    </tr>\n",
       "    <tr>\n",
       "      <th>4</th>\n",
       "      <td>JOHNSON</td>\n",
       "      <td>1573336</td>\n",
       "    </tr>\n",
       "  </tbody>\n",
       "</table>\n",
       "</div>"
      ],
      "text/plain": [
       "       county  bottles_sold\n",
       "0        POLK       7022989\n",
       "1        LINN       2695443\n",
       "2       SCOTT       2134820\n",
       "3  BLACK HAWK       1728897\n",
       "4     JOHNSON       1573336"
      ]
     },
     "execution_count": 16,
     "metadata": {},
     "output_type": "execute_result"
    }
   ],
   "source": [
    "top_demand_by_county"
   ]
  },
  {
   "cell_type": "code",
   "execution_count": 17,
   "id": "11445e21",
   "metadata": {},
   "outputs": [
    {
     "data": {
      "image/png": "[encoded data removed]",
      "text/plain": [
       "<Figure size 432x288 with 1 Axes>"
      ]
     },
     "metadata": {
      "needs_background": "light"
     },
     "output_type": "display_data"
    }
   ],
   "source": [
    "plt.barh(y='county', height=0.8, width='bottles_sold', data=top_demand_by_county)\n",
    "plt.show()"
   ]
  },
  {
   "cell_type": "code",
   "execution_count": null,
   "id": "cfd700b1",
   "metadata": {},
   "outputs": [],
   "source": []
  },
  {
   "cell_type": "code",
   "execution_count": null,
   "id": "b4bd045c",
   "metadata": {},
   "outputs": [],
   "source": []
  }
 ],
 "metadata": {
  "kernelspec": {
   "display_name": "Python 3 (ipykernel)",
   "language": "python",
   "name": "python3"
  },
  "language_info": {
   "codemirror_mode": {
    "name": "ipython",
    "version": 3
   },
   "file_extension": ".py",
   "mimetype": "text/x-python",
   "name": "python",
   "nbconvert_exporter": "python",
   "pygments_lexer": "ipython3",
   "version": "3.9.9"
  }
 },
 "nbformat": 4,
 "nbformat_minor": 5
}
