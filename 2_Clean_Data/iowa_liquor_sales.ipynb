{
 "cells": [
  {
   "cell_type": "code",
   "execution_count": 1,
   "id": "621161da",
   "metadata": {},
   "outputs": [],
   "source": [
    "import pandas as pd"
   ]
  },
  {
   "cell_type": "code",
   "execution_count": null,
   "id": "0be75133",
   "metadata": {},
   "outputs": [],
   "source": []
  },
  {
   "cell_type": "code",
   "execution_count": 2,
   "id": "e7a16c85",
   "metadata": {},
   "outputs": [],
   "source": [
    "iowa_liquor = pd.read_csv('../1_Data/Iowa_Liquor_Sales.csv')"
   ]
  },
  {
   "cell_type": "code",
   "execution_count": 3,
   "id": "388071b8",
   "metadata": {},
   "outputs": [
    {
     "data": {
      "text/html": [
       "<div>\n",
       "<style scoped>\n",
       "    .dataframe tbody tr th:only-of-type {\n",
       "        vertical-align: middle;\n",
       "    }\n",
       "\n",
       "    .dataframe tbody tr th {\n",
       "        vertical-align: top;\n",
       "    }\n",
       "\n",
       "    .dataframe thead th {\n",
       "        text-align: right;\n",
       "    }\n",
       "</style>\n",
       "<table border=\"1\" class=\"dataframe\">\n",
       "  <thead>\n",
       "    <tr style=\"text-align: right;\">\n",
       "      <th></th>\n",
       "      <th>Invoice/Item Number</th>\n",
       "      <th>Date</th>\n",
       "      <th>Store Number</th>\n",
       "      <th>Store Name</th>\n",
       "      <th>Address</th>\n",
       "      <th>City</th>\n",
       "      <th>Zip Code</th>\n",
       "      <th>Store Location</th>\n",
       "      <th>County Number</th>\n",
       "      <th>County</th>\n",
       "      <th>...</th>\n",
       "      <th>Item Number</th>\n",
       "      <th>Item Description</th>\n",
       "      <th>Pack</th>\n",
       "      <th>Bottle Volume (ml)</th>\n",
       "      <th>State Bottle Cost</th>\n",
       "      <th>State Bottle Retail</th>\n",
       "      <th>Bottles Sold</th>\n",
       "      <th>Sale (Dollars)</th>\n",
       "      <th>Volume Sold (Liters)</th>\n",
       "      <th>Volume Sold (Gallons)</th>\n",
       "    </tr>\n",
       "  </thead>\n",
       "  <tbody>\n",
       "    <tr>\n",
       "      <th>2564560</th>\n",
       "      <td>INV-54500300018</td>\n",
       "      <td>12/30/2022</td>\n",
       "      <td>4654</td>\n",
       "      <td>KUM &amp; GO #510 / STUART</td>\n",
       "      <td>629 S DIVISION ST</td>\n",
       "      <td>STUART</td>\n",
       "      <td>50250.0</td>\n",
       "      <td>POINT (-94.3185 41.49641)</td>\n",
       "      <td>NaN</td>\n",
       "      <td>ADAIR</td>\n",
       "      <td>...</td>\n",
       "      <td>10807</td>\n",
       "      <td>CROWN ROYAL REGAL APPLE</td>\n",
       "      <td>12</td>\n",
       "      <td>750</td>\n",
       "      <td>17.49</td>\n",
       "      <td>26.24</td>\n",
       "      <td>4</td>\n",
       "      <td>104.96</td>\n",
       "      <td>3.00</td>\n",
       "      <td>0.79</td>\n",
       "    </tr>\n",
       "    <tr>\n",
       "      <th>2564561</th>\n",
       "      <td>INV-54505300022</td>\n",
       "      <td>12/30/2022</td>\n",
       "      <td>4320</td>\n",
       "      <td>FAREWAY STORES #470 / PERRY</td>\n",
       "      <td>1315 WILLIS AVE</td>\n",
       "      <td>PERRY</td>\n",
       "      <td>50220.0</td>\n",
       "      <td>POINT (-94.10303 41.83848)</td>\n",
       "      <td>NaN</td>\n",
       "      <td>DALLAS</td>\n",
       "      <td>...</td>\n",
       "      <td>14192</td>\n",
       "      <td>PENDLETON CANADIAN WHISKEY</td>\n",
       "      <td>12</td>\n",
       "      <td>750</td>\n",
       "      <td>15.00</td>\n",
       "      <td>22.50</td>\n",
       "      <td>1</td>\n",
       "      <td>21.00</td>\n",
       "      <td>0.75</td>\n",
       "      <td>0.19</td>\n",
       "    </tr>\n",
       "    <tr>\n",
       "      <th>2564562</th>\n",
       "      <td>INV-54502800005</td>\n",
       "      <td>12/30/2022</td>\n",
       "      <td>4417</td>\n",
       "      <td>KUM &amp; GO #76 / ADAIR</td>\n",
       "      <td>109 S 5TH ST</td>\n",
       "      <td>ADAIR</td>\n",
       "      <td>50002.0</td>\n",
       "      <td>POINT (-94.64347 41.49568)</td>\n",
       "      <td>NaN</td>\n",
       "      <td>ADAIR</td>\n",
       "      <td>...</td>\n",
       "      <td>36308</td>\n",
       "      <td>HAWKEYE VODKA</td>\n",
       "      <td>6</td>\n",
       "      <td>1750</td>\n",
       "      <td>7.50</td>\n",
       "      <td>11.25</td>\n",
       "      <td>6</td>\n",
       "      <td>64.56</td>\n",
       "      <td>10.50</td>\n",
       "      <td>2.77</td>\n",
       "    </tr>\n",
       "    <tr>\n",
       "      <th>2564563</th>\n",
       "      <td>INV-54502500136</td>\n",
       "      <td>12/30/2022</td>\n",
       "      <td>6209</td>\n",
       "      <td>HY-VEE / GRIMES</td>\n",
       "      <td>351 NORTHEAST GATEWAY DRIVE</td>\n",
       "      <td>GRIMES</td>\n",
       "      <td>50111.0</td>\n",
       "      <td>POINT (-93.77819 41.69155)</td>\n",
       "      <td>NaN</td>\n",
       "      <td>POLK</td>\n",
       "      <td>...</td>\n",
       "      <td>89206</td>\n",
       "      <td>1800 REPOSADO</td>\n",
       "      <td>12</td>\n",
       "      <td>750</td>\n",
       "      <td>17.50</td>\n",
       "      <td>26.25</td>\n",
       "      <td>12</td>\n",
       "      <td>306.00</td>\n",
       "      <td>9.00</td>\n",
       "      <td>2.37</td>\n",
       "    </tr>\n",
       "    <tr>\n",
       "      <th>2564564</th>\n",
       "      <td>INV-54501400024</td>\n",
       "      <td>12/30/2022</td>\n",
       "      <td>4334</td>\n",
       "      <td>FAREWAY STORES #114 / DUBUQUE</td>\n",
       "      <td>2050 JOHN F KENNEDY RD</td>\n",
       "      <td>DUBUQUE</td>\n",
       "      <td>52001.0</td>\n",
       "      <td>POINT (-90.72042 42.50749)</td>\n",
       "      <td>NaN</td>\n",
       "      <td>DUBUQUE</td>\n",
       "      <td>...</td>\n",
       "      <td>36304</td>\n",
       "      <td>HAWKEYE VODKA</td>\n",
       "      <td>24</td>\n",
       "      <td>375</td>\n",
       "      <td>2.00</td>\n",
       "      <td>3.00</td>\n",
       "      <td>24</td>\n",
       "      <td>66.96</td>\n",
       "      <td>9.00</td>\n",
       "      <td>2.37</td>\n",
       "    </tr>\n",
       "  </tbody>\n",
       "</table>\n",
       "<p>5 rows × 24 columns</p>\n",
       "</div>"
      ],
      "text/plain": [
       "        Invoice/Item Number        Date  Store Number  \\\n",
       "2564560     INV-54500300018  12/30/2022          4654   \n",
       "2564561     INV-54505300022  12/30/2022          4320   \n",
       "2564562     INV-54502800005  12/30/2022          4417   \n",
       "2564563     INV-54502500136  12/30/2022          6209   \n",
       "2564564     INV-54501400024  12/30/2022          4334   \n",
       "\n",
       "                            Store Name                      Address     City  \\\n",
       "2564560         KUM & GO #510 / STUART            629 S DIVISION ST   STUART   \n",
       "2564561    FAREWAY STORES #470 / PERRY              1315 WILLIS AVE    PERRY   \n",
       "2564562           KUM & GO #76 / ADAIR                 109 S 5TH ST    ADAIR   \n",
       "2564563                HY-VEE / GRIMES  351 NORTHEAST GATEWAY DRIVE   GRIMES   \n",
       "2564564  FAREWAY STORES #114 / DUBUQUE       2050 JOHN F KENNEDY RD  DUBUQUE   \n",
       "\n",
       "         Zip Code              Store Location  County Number   County  ...  \\\n",
       "2564560   50250.0   POINT (-94.3185 41.49641)            NaN    ADAIR  ...   \n",
       "2564561   50220.0  POINT (-94.10303 41.83848)            NaN   DALLAS  ...   \n",
       "2564562   50002.0  POINT (-94.64347 41.49568)            NaN    ADAIR  ...   \n",
       "2564563   50111.0  POINT (-93.77819 41.69155)            NaN     POLK  ...   \n",
       "2564564   52001.0  POINT (-90.72042 42.50749)            NaN  DUBUQUE  ...   \n",
       "\n",
       "         Item Number            Item Description  Pack Bottle Volume (ml)  \\\n",
       "2564560        10807     CROWN ROYAL REGAL APPLE    12                750   \n",
       "2564561        14192  PENDLETON CANADIAN WHISKEY    12                750   \n",
       "2564562        36308               HAWKEYE VODKA     6               1750   \n",
       "2564563        89206               1800 REPOSADO    12                750   \n",
       "2564564        36304               HAWKEYE VODKA    24                375   \n",
       "\n",
       "         State Bottle Cost State Bottle Retail  Bottles Sold  Sale (Dollars)  \\\n",
       "2564560              17.49               26.24             4          104.96   \n",
       "2564561              15.00               22.50             1           21.00   \n",
       "2564562               7.50               11.25             6           64.56   \n",
       "2564563              17.50               26.25            12          306.00   \n",
       "2564564               2.00                3.00            24           66.96   \n",
       "\n",
       "         Volume Sold (Liters)  Volume Sold (Gallons)  \n",
       "2564560                  3.00                   0.79  \n",
       "2564561                  0.75                   0.19  \n",
       "2564562                 10.50                   2.77  \n",
       "2564563                  9.00                   2.37  \n",
       "2564564                  9.00                   2.37  \n",
       "\n",
       "[5 rows x 24 columns]"
      ]
     },
     "execution_count": 3,
     "metadata": {},
     "output_type": "execute_result"
    }
   ],
   "source": [
    "iowa_liquor.tail()"
   ]
  },
  {
   "cell_type": "code",
   "execution_count": 4,
   "id": "3cba113c",
   "metadata": {},
   "outputs": [
    {
     "data": {
      "text/plain": [
       "Index(['Invoice/Item Number', 'Date', 'Store Number', 'Store Name', 'Address',\n",
       "       'City', 'Zip Code', 'Store Location', 'County Number', 'County',\n",
       "       'Category', 'Category Name', 'Vendor Number', 'Vendor Name',\n",
       "       'Item Number', 'Item Description', 'Pack', 'Bottle Volume (ml)',\n",
       "       'State Bottle Cost', 'State Bottle Retail', 'Bottles Sold',\n",
       "       'Sale (Dollars)', 'Volume Sold (Liters)', 'Volume Sold (Gallons)'],\n",
       "      dtype='object')"
      ]
     },
     "execution_count": 4,
     "metadata": {},
     "output_type": "execute_result"
    }
   ],
   "source": [
    "iowa_liquor.columns"
   ]
  },
  {
   "cell_type": "code",
   "execution_count": 5,
   "id": "e94e766f",
   "metadata": {},
   "outputs": [
    {
     "data": {
      "text/plain": [
       "(2564565, 24)"
      ]
     },
     "execution_count": 5,
     "metadata": {},
     "output_type": "execute_result"
    }
   ],
   "source": [
    "iowa_liquor.shape"
   ]
  },
  {
   "cell_type": "code",
   "execution_count": 6,
   "id": "1a8cec73",
   "metadata": {
    "scrolled": true
   },
   "outputs": [
    {
     "name": "stdout",
     "output_type": "stream",
     "text": [
      "<class 'pandas.core.frame.DataFrame'>\n",
      "RangeIndex: 2564565 entries, 0 to 2564564\n",
      "Data columns (total 24 columns):\n",
      " #   Column                 Dtype  \n",
      "---  ------                 -----  \n",
      " 0   Invoice/Item Number    object \n",
      " 1   Date                   object \n",
      " 2   Store Number           int64  \n",
      " 3   Store Name             object \n",
      " 4   Address                object \n",
      " 5   City                   object \n",
      " 6   Zip Code               float64\n",
      " 7   Store Location         object \n",
      " 8   County Number          float64\n",
      " 9   County                 object \n",
      " 10  Category               int64  \n",
      " 11  Category Name          object \n",
      " 12  Vendor Number          int64  \n",
      " 13  Vendor Name            object \n",
      " 14  Item Number            int64  \n",
      " 15  Item Description       object \n",
      " 16  Pack                   int64  \n",
      " 17  Bottle Volume (ml)     int64  \n",
      " 18  State Bottle Cost      float64\n",
      " 19  State Bottle Retail    float64\n",
      " 20  Bottles Sold           int64  \n",
      " 21  Sale (Dollars)         float64\n",
      " 22  Volume Sold (Liters)   float64\n",
      " 23  Volume Sold (Gallons)  float64\n",
      "dtypes: float64(7), int64(7), object(10)\n",
      "memory usage: 469.6+ MB\n"
     ]
    }
   ],
   "source": [
    "iowa_liquor.info()"
   ]
  },
  {
   "cell_type": "code",
   "execution_count": 7,
   "id": "c9407bdc",
   "metadata": {},
   "outputs": [
    {
     "data": {
      "text/plain": [
       "SAZERAC COMPANY  INC              415177\n",
       "DIAGEO AMERICAS                   394157\n",
       "JIM BEAM BRANDS                   215626\n",
       "HEAVEN HILL BRANDS                199752\n",
       "LUXCO INC                         168405\n",
       "                                   ...  \n",
       "SPLINTER GROUP NAPA, LLC               1\n",
       "SEVEN JARS DISTILLERY, LLC             1\n",
       "SURVILLE ENTERPRISES CORP              1\n",
       "HAMILTON DISTILLERS GROUP, INC         1\n",
       "EOD DISTILLERY, LLC                    1\n",
       "Name: Vendor Name, Length: 237, dtype: int64"
      ]
     },
     "execution_count": 7,
     "metadata": {},
     "output_type": "execute_result"
    }
   ],
   "source": [
    "iowa_liquor['Vendor Name'].value_counts()"
   ]
  },
  {
   "cell_type": "code",
   "execution_count": null,
   "id": "3a569a60",
   "metadata": {},
   "outputs": [],
   "source": []
  },
  {
   "cell_type": "markdown",
   "id": "c9e9ca7e",
   "metadata": {},
   "source": [
    "## Data Cleaning Observation"
   ]
  },
  {
   "cell_type": "markdown",
   "id": "180636af",
   "metadata": {},
   "source": [
    "## 1) unnecessary columns should be removed\n",
    "## 2) column names should be in lower case with underscore as a substitute for spaces\n",
    "## 3) columns names should have the right datatype assigned\n"
   ]
  },
  {
   "cell_type": "code",
   "execution_count": null,
   "id": "e2a260d1",
   "metadata": {},
   "outputs": [],
   "source": []
  },
  {
   "cell_type": "code",
   "execution_count": null,
   "id": "ea96a468",
   "metadata": {},
   "outputs": [],
   "source": []
  },
  {
   "cell_type": "markdown",
   "id": "d760185b",
   "metadata": {},
   "source": [
    "## Data Cleaning"
   ]
  },
  {
   "cell_type": "code",
   "execution_count": 8,
   "id": "787e0e40",
   "metadata": {},
   "outputs": [],
   "source": [
    "iowa_liquor_clean = iowa_liquor.copy()"
   ]
  },
  {
   "cell_type": "code",
   "execution_count": 9,
   "id": "c526c9a8",
   "metadata": {},
   "outputs": [
    {
     "data": {
      "text/html": [
       "<div>\n",
       "<style scoped>\n",
       "    .dataframe tbody tr th:only-of-type {\n",
       "        vertical-align: middle;\n",
       "    }\n",
       "\n",
       "    .dataframe tbody tr th {\n",
       "        vertical-align: top;\n",
       "    }\n",
       "\n",
       "    .dataframe thead th {\n",
       "        text-align: right;\n",
       "    }\n",
       "</style>\n",
       "<table border=\"1\" class=\"dataframe\">\n",
       "  <thead>\n",
       "    <tr style=\"text-align: right;\">\n",
       "      <th></th>\n",
       "      <th>Invoice/Item Number</th>\n",
       "      <th>Date</th>\n",
       "      <th>Store Number</th>\n",
       "      <th>Store Name</th>\n",
       "      <th>Address</th>\n",
       "      <th>City</th>\n",
       "      <th>Zip Code</th>\n",
       "      <th>Store Location</th>\n",
       "      <th>County Number</th>\n",
       "      <th>County</th>\n",
       "      <th>...</th>\n",
       "      <th>Item Number</th>\n",
       "      <th>Item Description</th>\n",
       "      <th>Pack</th>\n",
       "      <th>Bottle Volume (ml)</th>\n",
       "      <th>State Bottle Cost</th>\n",
       "      <th>State Bottle Retail</th>\n",
       "      <th>Bottles Sold</th>\n",
       "      <th>Sale (Dollars)</th>\n",
       "      <th>Volume Sold (Liters)</th>\n",
       "      <th>Volume Sold (Gallons)</th>\n",
       "    </tr>\n",
       "  </thead>\n",
       "  <tbody>\n",
       "    <tr>\n",
       "      <th>0</th>\n",
       "      <td>INV-43468400010</td>\n",
       "      <td>01/02/2022</td>\n",
       "      <td>2536</td>\n",
       "      <td>HY-VEE / PLEASANT HILL</td>\n",
       "      <td>4815 MAPLE DRIVE</td>\n",
       "      <td>PLEASANT HILL</td>\n",
       "      <td>50317.0</td>\n",
       "      <td>POINT (-93.519491 41.598133)</td>\n",
       "      <td>77.0</td>\n",
       "      <td>POLK</td>\n",
       "      <td>...</td>\n",
       "      <td>86990</td>\n",
       "      <td>CEDAR RIDGE SIR MAPLE</td>\n",
       "      <td>6</td>\n",
       "      <td>750</td>\n",
       "      <td>23.00</td>\n",
       "      <td>34.50</td>\n",
       "      <td>6</td>\n",
       "      <td>207.00</td>\n",
       "      <td>4.5</td>\n",
       "      <td>1.18</td>\n",
       "    </tr>\n",
       "    <tr>\n",
       "      <th>1</th>\n",
       "      <td>INV-43468500035</td>\n",
       "      <td>01/02/2022</td>\n",
       "      <td>2190</td>\n",
       "      <td>CENTRAL CITY LIQUOR, INC.</td>\n",
       "      <td>1460 2ND AVE</td>\n",
       "      <td>DES MOINES</td>\n",
       "      <td>50314.0</td>\n",
       "      <td>POINT (-93.619788 41.605706)</td>\n",
       "      <td>77.0</td>\n",
       "      <td>POLK</td>\n",
       "      <td>...</td>\n",
       "      <td>43031</td>\n",
       "      <td>BACARDI GOLD MINI</td>\n",
       "      <td>12</td>\n",
       "      <td>50</td>\n",
       "      <td>5.54</td>\n",
       "      <td>8.31</td>\n",
       "      <td>2</td>\n",
       "      <td>16.62</td>\n",
       "      <td>0.1</td>\n",
       "      <td>0.02</td>\n",
       "    </tr>\n",
       "    <tr>\n",
       "      <th>2</th>\n",
       "      <td>INV-43468500011</td>\n",
       "      <td>01/02/2022</td>\n",
       "      <td>2190</td>\n",
       "      <td>CENTRAL CITY LIQUOR, INC.</td>\n",
       "      <td>1460 2ND AVE</td>\n",
       "      <td>DES MOINES</td>\n",
       "      <td>50314.0</td>\n",
       "      <td>POINT (-93.619788 41.605706)</td>\n",
       "      <td>77.0</td>\n",
       "      <td>POLK</td>\n",
       "      <td>...</td>\n",
       "      <td>4246</td>\n",
       "      <td>ARDBEG WEE BEASTIE</td>\n",
       "      <td>6</td>\n",
       "      <td>750</td>\n",
       "      <td>23.99</td>\n",
       "      <td>35.99</td>\n",
       "      <td>6</td>\n",
       "      <td>215.94</td>\n",
       "      <td>4.5</td>\n",
       "      <td>1.18</td>\n",
       "    </tr>\n",
       "    <tr>\n",
       "      <th>3</th>\n",
       "      <td>INV-43468500020</td>\n",
       "      <td>01/02/2022</td>\n",
       "      <td>2190</td>\n",
       "      <td>CENTRAL CITY LIQUOR, INC.</td>\n",
       "      <td>1460 2ND AVE</td>\n",
       "      <td>DES MOINES</td>\n",
       "      <td>50314.0</td>\n",
       "      <td>POINT (-93.619788 41.605706)</td>\n",
       "      <td>77.0</td>\n",
       "      <td>POLK</td>\n",
       "      <td>...</td>\n",
       "      <td>36576</td>\n",
       "      <td>SVEDKA BLUE RASPBERRY</td>\n",
       "      <td>12</td>\n",
       "      <td>750</td>\n",
       "      <td>8.00</td>\n",
       "      <td>12.00</td>\n",
       "      <td>2</td>\n",
       "      <td>24.00</td>\n",
       "      <td>1.5</td>\n",
       "      <td>0.39</td>\n",
       "    </tr>\n",
       "    <tr>\n",
       "      <th>4</th>\n",
       "      <td>INV-43468500039</td>\n",
       "      <td>01/02/2022</td>\n",
       "      <td>2190</td>\n",
       "      <td>CENTRAL CITY LIQUOR, INC.</td>\n",
       "      <td>1460 2ND AVE</td>\n",
       "      <td>DES MOINES</td>\n",
       "      <td>50314.0</td>\n",
       "      <td>POINT (-93.619788 41.605706)</td>\n",
       "      <td>77.0</td>\n",
       "      <td>POLK</td>\n",
       "      <td>...</td>\n",
       "      <td>88533</td>\n",
       "      <td>MI CAMPO REPOSADO</td>\n",
       "      <td>12</td>\n",
       "      <td>750</td>\n",
       "      <td>12.40</td>\n",
       "      <td>18.60</td>\n",
       "      <td>2</td>\n",
       "      <td>37.20</td>\n",
       "      <td>1.5</td>\n",
       "      <td>0.39</td>\n",
       "    </tr>\n",
       "  </tbody>\n",
       "</table>\n",
       "<p>5 rows × 24 columns</p>\n",
       "</div>"
      ],
      "text/plain": [
       "  Invoice/Item Number        Date  Store Number                 Store Name  \\\n",
       "0     INV-43468400010  01/02/2022          2536     HY-VEE / PLEASANT HILL   \n",
       "1     INV-43468500035  01/02/2022          2190  CENTRAL CITY LIQUOR, INC.   \n",
       "2     INV-43468500011  01/02/2022          2190  CENTRAL CITY LIQUOR, INC.   \n",
       "3     INV-43468500020  01/02/2022          2190  CENTRAL CITY LIQUOR, INC.   \n",
       "4     INV-43468500039  01/02/2022          2190  CENTRAL CITY LIQUOR, INC.   \n",
       "\n",
       "            Address           City  Zip Code                Store Location  \\\n",
       "0  4815 MAPLE DRIVE  PLEASANT HILL   50317.0  POINT (-93.519491 41.598133)   \n",
       "1      1460 2ND AVE     DES MOINES   50314.0  POINT (-93.619788 41.605706)   \n",
       "2      1460 2ND AVE     DES MOINES   50314.0  POINT (-93.619788 41.605706)   \n",
       "3      1460 2ND AVE     DES MOINES   50314.0  POINT (-93.619788 41.605706)   \n",
       "4      1460 2ND AVE     DES MOINES   50314.0  POINT (-93.619788 41.605706)   \n",
       "\n",
       "   County Number County  ...  Item Number       Item Description  Pack  \\\n",
       "0           77.0   POLK  ...        86990  CEDAR RIDGE SIR MAPLE     6   \n",
       "1           77.0   POLK  ...        43031      BACARDI GOLD MINI    12   \n",
       "2           77.0   POLK  ...         4246     ARDBEG WEE BEASTIE     6   \n",
       "3           77.0   POLK  ...        36576  SVEDKA BLUE RASPBERRY    12   \n",
       "4           77.0   POLK  ...        88533      MI CAMPO REPOSADO    12   \n",
       "\n",
       "  Bottle Volume (ml)  State Bottle Cost State Bottle Retail  Bottles Sold  \\\n",
       "0                750              23.00               34.50             6   \n",
       "1                 50               5.54                8.31             2   \n",
       "2                750              23.99               35.99             6   \n",
       "3                750               8.00               12.00             2   \n",
       "4                750              12.40               18.60             2   \n",
       "\n",
       "   Sale (Dollars)  Volume Sold (Liters)  Volume Sold (Gallons)  \n",
       "0          207.00                   4.5                   1.18  \n",
       "1           16.62                   0.1                   0.02  \n",
       "2          215.94                   4.5                   1.18  \n",
       "3           24.00                   1.5                   0.39  \n",
       "4           37.20                   1.5                   0.39  \n",
       "\n",
       "[5 rows x 24 columns]"
      ]
     },
     "execution_count": 9,
     "metadata": {},
     "output_type": "execute_result"
    }
   ],
   "source": [
    "iowa_liquor_clean.head()"
   ]
  },
  {
   "cell_type": "markdown",
   "id": "d2882596",
   "metadata": {},
   "source": [
    "## Remove unnecessary columns"
   ]
  },
  {
   "cell_type": "code",
   "execution_count": 10,
   "id": "26296d20",
   "metadata": {},
   "outputs": [],
   "source": [
    "iowa_liquor_clean.drop(['Store Number', 'Address','Zip Code', 'County Number', 'Store Location',\n",
    "       'Category', 'Vendor Number','Item Number', 'Pack'], axis=1, inplace=True)"
   ]
  },
  {
   "cell_type": "code",
   "execution_count": 11,
   "id": "0c19c887",
   "metadata": {},
   "outputs": [
    {
     "data": {
      "text/plain": [
       "Index(['Invoice/Item Number', 'Date', 'Store Name', 'City', 'County',\n",
       "       'Category Name', 'Vendor Name', 'Item Description',\n",
       "       'Bottle Volume (ml)', 'State Bottle Cost', 'State Bottle Retail',\n",
       "       'Bottles Sold', 'Sale (Dollars)', 'Volume Sold (Liters)',\n",
       "       'Volume Sold (Gallons)'],\n",
       "      dtype='object')"
      ]
     },
     "execution_count": 11,
     "metadata": {},
     "output_type": "execute_result"
    }
   ],
   "source": [
    "iowa_liquor_clean.columns"
   ]
  },
  {
   "cell_type": "code",
   "execution_count": null,
   "id": "dba68658",
   "metadata": {},
   "outputs": [],
   "source": []
  },
  {
   "cell_type": "markdown",
   "id": "4915a5f2",
   "metadata": {},
   "source": [
    "## Transform column names to lower case"
   ]
  },
  {
   "cell_type": "code",
   "execution_count": 12,
   "id": "4197de15",
   "metadata": {},
   "outputs": [],
   "source": [
    "iowa_liquor_clean = iowa_liquor_clean.rename(columns=str.lower)"
   ]
  },
  {
   "cell_type": "code",
   "execution_count": 13,
   "id": "4048e59c",
   "metadata": {},
   "outputs": [
    {
     "data": {
      "text/plain": [
       "Index(['invoice/item number', 'date', 'store name', 'city', 'county',\n",
       "       'category name', 'vendor name', 'item description',\n",
       "       'bottle volume (ml)', 'state bottle cost', 'state bottle retail',\n",
       "       'bottles sold', 'sale (dollars)', 'volume sold (liters)',\n",
       "       'volume sold (gallons)'],\n",
       "      dtype='object')"
      ]
     },
     "execution_count": 13,
     "metadata": {},
     "output_type": "execute_result"
    }
   ],
   "source": [
    "iowa_liquor_clean.columns"
   ]
  },
  {
   "cell_type": "code",
   "execution_count": null,
   "id": "6ef5d541",
   "metadata": {},
   "outputs": [],
   "source": []
  },
  {
   "cell_type": "markdown",
   "id": "89f6b80e",
   "metadata": {},
   "source": [
    "## Replace spaces in column name with underscores"
   ]
  },
  {
   "cell_type": "code",
   "execution_count": 14,
   "id": "666c84b7",
   "metadata": {},
   "outputs": [],
   "source": [
    "iowa_columns = iowa_liquor_clean.columns"
   ]
  },
  {
   "cell_type": "code",
   "execution_count": 15,
   "id": "5b5b38d5",
   "metadata": {},
   "outputs": [],
   "source": [
    "iowa_liquor_clean.columns = iowa_liquor_clean.columns.str.replace(\" \", \"_\")"
   ]
  },
  {
   "cell_type": "code",
   "execution_count": 16,
   "id": "830645da",
   "metadata": {},
   "outputs": [
    {
     "data": {
      "text/plain": [
       "Index(['invoice/item_number', 'date', 'store_name', 'city', 'county',\n",
       "       'category_name', 'vendor_name', 'item_description',\n",
       "       'bottle_volume_(ml)', 'state_bottle_cost', 'state_bottle_retail',\n",
       "       'bottles_sold', 'sale_(dollars)', 'volume_sold_(liters)',\n",
       "       'volume_sold_(gallons)'],\n",
       "      dtype='object')"
      ]
     },
     "execution_count": 16,
     "metadata": {},
     "output_type": "execute_result"
    }
   ],
   "source": [
    "iowa_liquor_clean.columns"
   ]
  },
  {
   "cell_type": "code",
   "execution_count": null,
   "id": "0bc53e20",
   "metadata": {},
   "outputs": [],
   "source": []
  },
  {
   "cell_type": "markdown",
   "id": "4b6cad9f",
   "metadata": {},
   "source": [
    "## Assign column names the right datatype"
   ]
  },
  {
   "cell_type": "code",
   "execution_count": 17,
   "id": "a7231c00",
   "metadata": {},
   "outputs": [
    {
     "data": {
      "text/html": [
       "<div>\n",
       "<style scoped>\n",
       "    .dataframe tbody tr th:only-of-type {\n",
       "        vertical-align: middle;\n",
       "    }\n",
       "\n",
       "    .dataframe tbody tr th {\n",
       "        vertical-align: top;\n",
       "    }\n",
       "\n",
       "    .dataframe thead th {\n",
       "        text-align: right;\n",
       "    }\n",
       "</style>\n",
       "<table border=\"1\" class=\"dataframe\">\n",
       "  <thead>\n",
       "    <tr style=\"text-align: right;\">\n",
       "      <th></th>\n",
       "      <th>invoice/item_number</th>\n",
       "      <th>date</th>\n",
       "      <th>store_name</th>\n",
       "      <th>city</th>\n",
       "      <th>county</th>\n",
       "      <th>category_name</th>\n",
       "      <th>vendor_name</th>\n",
       "      <th>item_description</th>\n",
       "      <th>bottle_volume_(ml)</th>\n",
       "      <th>state_bottle_cost</th>\n",
       "      <th>state_bottle_retail</th>\n",
       "      <th>bottles_sold</th>\n",
       "      <th>sale_(dollars)</th>\n",
       "      <th>volume_sold_(liters)</th>\n",
       "      <th>volume_sold_(gallons)</th>\n",
       "    </tr>\n",
       "  </thead>\n",
       "  <tbody>\n",
       "    <tr>\n",
       "      <th>0</th>\n",
       "      <td>INV-43468400010</td>\n",
       "      <td>01/02/2022</td>\n",
       "      <td>HY-VEE / PLEASANT HILL</td>\n",
       "      <td>PLEASANT HILL</td>\n",
       "      <td>POLK</td>\n",
       "      <td>TEMPORARY &amp;  SPECIALTY PACKAGES</td>\n",
       "      <td>CEDAR RIDGE VINEYARDS LL</td>\n",
       "      <td>CEDAR RIDGE SIR MAPLE</td>\n",
       "      <td>750</td>\n",
       "      <td>23.00</td>\n",
       "      <td>34.50</td>\n",
       "      <td>6</td>\n",
       "      <td>207.00</td>\n",
       "      <td>4.5</td>\n",
       "      <td>1.18</td>\n",
       "    </tr>\n",
       "    <tr>\n",
       "      <th>1</th>\n",
       "      <td>INV-43468500035</td>\n",
       "      <td>01/02/2022</td>\n",
       "      <td>CENTRAL CITY LIQUOR, INC.</td>\n",
       "      <td>DES MOINES</td>\n",
       "      <td>POLK</td>\n",
       "      <td>GOLD RUM</td>\n",
       "      <td>BACARDI USA INC</td>\n",
       "      <td>BACARDI GOLD MINI</td>\n",
       "      <td>50</td>\n",
       "      <td>5.54</td>\n",
       "      <td>8.31</td>\n",
       "      <td>2</td>\n",
       "      <td>16.62</td>\n",
       "      <td>0.1</td>\n",
       "      <td>0.02</td>\n",
       "    </tr>\n",
       "  </tbody>\n",
       "</table>\n",
       "</div>"
      ],
      "text/plain": [
       "  invoice/item_number        date                 store_name           city  \\\n",
       "0     INV-43468400010  01/02/2022     HY-VEE / PLEASANT HILL  PLEASANT HILL   \n",
       "1     INV-43468500035  01/02/2022  CENTRAL CITY LIQUOR, INC.     DES MOINES   \n",
       "\n",
       "  county                    category_name               vendor_name  \\\n",
       "0   POLK  TEMPORARY &  SPECIALTY PACKAGES  CEDAR RIDGE VINEYARDS LL   \n",
       "1   POLK                         GOLD RUM           BACARDI USA INC   \n",
       "\n",
       "        item_description  bottle_volume_(ml)  state_bottle_cost  \\\n",
       "0  CEDAR RIDGE SIR MAPLE                 750              23.00   \n",
       "1      BACARDI GOLD MINI                  50               5.54   \n",
       "\n",
       "   state_bottle_retail  bottles_sold  sale_(dollars)  volume_sold_(liters)  \\\n",
       "0                34.50             6          207.00                   4.5   \n",
       "1                 8.31             2           16.62                   0.1   \n",
       "\n",
       "   volume_sold_(gallons)  \n",
       "0                   1.18  \n",
       "1                   0.02  "
      ]
     },
     "execution_count": 17,
     "metadata": {},
     "output_type": "execute_result"
    }
   ],
   "source": [
    "iowa_liquor_clean.head(2)"
   ]
  },
  {
   "cell_type": "code",
   "execution_count": 18,
   "id": "b8b929e3",
   "metadata": {},
   "outputs": [
    {
     "name": "stdout",
     "output_type": "stream",
     "text": [
      "<class 'pandas.core.frame.DataFrame'>\n",
      "RangeIndex: 2564565 entries, 0 to 2564564\n",
      "Data columns (total 15 columns):\n",
      " #   Column                 Dtype  \n",
      "---  ------                 -----  \n",
      " 0   invoice/item_number    object \n",
      " 1   date                   object \n",
      " 2   store_name             object \n",
      " 3   city                   object \n",
      " 4   county                 object \n",
      " 5   category_name          object \n",
      " 6   vendor_name            object \n",
      " 7   item_description       object \n",
      " 8   bottle_volume_(ml)     int64  \n",
      " 9   state_bottle_cost      float64\n",
      " 10  state_bottle_retail    float64\n",
      " 11  bottles_sold           int64  \n",
      " 12  sale_(dollars)         float64\n",
      " 13  volume_sold_(liters)   float64\n",
      " 14  volume_sold_(gallons)  float64\n",
      "dtypes: float64(5), int64(2), object(8)\n",
      "memory usage: 293.5+ MB\n"
     ]
    }
   ],
   "source": [
    "iowa_liquor_clean.info()"
   ]
  },
  {
   "cell_type": "markdown",
   "id": "589ee409",
   "metadata": {},
   "source": [
    "## Change date to a datetime datatype"
   ]
  },
  {
   "cell_type": "code",
   "execution_count": 19,
   "id": "c739243b",
   "metadata": {},
   "outputs": [],
   "source": [
    "iowa_liquor_clean['date'] = pd.to_datetime(iowa_liquor_clean.date)"
   ]
  },
  {
   "cell_type": "code",
   "execution_count": null,
   "id": "fb78068a",
   "metadata": {},
   "outputs": [],
   "source": []
  },
  {
   "cell_type": "code",
   "execution_count": 20,
   "id": "85d4bf28",
   "metadata": {},
   "outputs": [
    {
     "name": "stdout",
     "output_type": "stream",
     "text": [
      "<class 'pandas.core.frame.DataFrame'>\n",
      "RangeIndex: 2564565 entries, 0 to 2564564\n",
      "Data columns (total 15 columns):\n",
      " #   Column                 Dtype         \n",
      "---  ------                 -----         \n",
      " 0   invoice/item_number    object        \n",
      " 1   date                   datetime64[ns]\n",
      " 2   store_name             object        \n",
      " 3   city                   object        \n",
      " 4   county                 object        \n",
      " 5   category_name          object        \n",
      " 6   vendor_name            object        \n",
      " 7   item_description       object        \n",
      " 8   bottle_volume_(ml)     int64         \n",
      " 9   state_bottle_cost      float64       \n",
      " 10  state_bottle_retail    float64       \n",
      " 11  bottles_sold           int64         \n",
      " 12  sale_(dollars)         float64       \n",
      " 13  volume_sold_(liters)   float64       \n",
      " 14  volume_sold_(gallons)  float64       \n",
      "dtypes: datetime64[ns](1), float64(5), int64(2), object(7)\n",
      "memory usage: 293.5+ MB\n"
     ]
    }
   ],
   "source": [
    "iowa_liquor_clean.info()"
   ]
  },
  {
   "cell_type": "code",
   "execution_count": null,
   "id": "c6cb2057",
   "metadata": {},
   "outputs": [],
   "source": []
  },
  {
   "cell_type": "code",
   "execution_count": 21,
   "id": "99a2810b",
   "metadata": {},
   "outputs": [],
   "source": [
    "iowa_liquor_clean['date'] = pd.to_datetime(iowa_liquor_clean.date)"
   ]
  },
  {
   "cell_type": "code",
   "execution_count": null,
   "id": "a62b4849",
   "metadata": {},
   "outputs": [],
   "source": []
  },
  {
   "cell_type": "code",
   "execution_count": 22,
   "id": "ef1db1aa",
   "metadata": {},
   "outputs": [],
   "source": [
    "iowa_liquor_clean['month'] = iowa_liquor_clean.date.dt.month"
   ]
  },
  {
   "cell_type": "code",
   "execution_count": 23,
   "id": "33a541fc",
   "metadata": {},
   "outputs": [],
   "source": [
    "import calendar"
   ]
  },
  {
   "cell_type": "code",
   "execution_count": null,
   "id": "c16057bb",
   "metadata": {},
   "outputs": [],
   "source": [
    "iowa_liquor_clean['month_name'] = iowa_liquor_clean['month'].apply(lambda x: calendar.month_name[x])"
   ]
  },
  {
   "cell_type": "code",
   "execution_count": null,
   "id": "f9b067be",
   "metadata": {},
   "outputs": [],
   "source": []
  },
  {
   "cell_type": "code",
   "execution_count": null,
   "id": "36afe8c5",
   "metadata": {},
   "outputs": [],
   "source": []
  },
  {
   "cell_type": "code",
   "execution_count": null,
   "id": "7f9f1ee1",
   "metadata": {},
   "outputs": [],
   "source": [
    "iowa_liquor_clean.to_csv('../3_Analysis/iowa_liquor_clean.csv', index=False)"
   ]
  },
  {
   "cell_type": "code",
   "execution_count": null,
   "id": "ff81ccf2",
   "metadata": {},
   "outputs": [],
   "source": []
  }
 ],
 "metadata": {
  "kernelspec": {
   "display_name": "Python 3 (ipykernel)",
   "language": "python",
   "name": "python3"
  },
  "language_info": {
   "codemirror_mode": {
    "name": "ipython",
    "version": 3
   },
   "file_extension": ".py",
   "mimetype": "text/x-python",
   "name": "python",
   "nbconvert_exporter": "python",
   "pygments_lexer": "ipython3",
   "version": "3.9.9"
  }
 },
 "nbformat": 4,
 "nbformat_minor": 5
}
